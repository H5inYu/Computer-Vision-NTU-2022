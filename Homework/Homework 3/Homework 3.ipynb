{
 "cells": [
  {
   "cell_type": "code",
   "execution_count": 1,
   "metadata": {},
   "outputs": [],
   "source": [
    "import numpy as np\n",
    "from PIL import Image, ImageDraw\n",
    "import matplotlib.pyplot as plt\n"
   ]
  },
  {
   "cell_type": "code",
   "execution_count": 2,
   "metadata": {},
   "outputs": [
    {
     "data": {
      "image/png": "[encoded data removed]",
      "text/plain": [
       "<Figure size 432x288 with 1 Axes>"
      ]
     },
     "metadata": {
      "needs_background": "light"
     },
     "output_type": "display_data"
    }
   ],
   "source": [
    "# (a) original image and its histogram\n",
    "\n",
    "img = Image.open(\"lena.bmp\")\n",
    "width, height = img.size\n",
    "\n",
    "x = np.arange(256)\n",
    "y = np.zeros(256)\n",
    "for c in range(width):\n",
    "    for r in range(height):\n",
    "        y[img.getpixel((c,r))] +=1\n",
    "plt.bar(x,y)\n",
    "plt.show()"
   ]
  },
  {
   "cell_type": "code",
   "execution_count": 3,
   "metadata": {},
   "outputs": [
    {
     "data": {
      "image/png": "[encoded data removed]",
      "text/plain": [
       "<Figure size 432x288 with 1 Axes>"
      ]
     },
     "metadata": {
      "needs_background": "light"
     },
     "output_type": "display_data"
    }
   ],
   "source": [
    "# (b) image with intensity divided by 3 and its histogram\n",
    "\n",
    "original = Image.open(\"lena.bmp\")\n",
    "width, height = img.size\n",
    "\n",
    "x = np.arange(256)\n",
    "dividedHistogram = np.zeros(256)\n",
    "\n",
    "for c in range(width):\n",
    "    for r in range(height):\n",
    "        index = round(img.getpixel((c,r))/3)\n",
    "        dividedHistogram[index] +=1\n",
    "        \n",
    "dividedImage = Image.new(\"L\", original.size)\n",
    "dividedImageArray = dividedImage.load()\n",
    "\n",
    "for c in range(width):\n",
    "    for r in range(height):\n",
    "        dividedImageArray[c,r] = round(img.getpixel((c,r))/3)\n",
    "        \n",
    "dividedImage.save(\"DividedImage.bmp\")\n",
    "dividedImage.show()\n",
    "plt.bar(x,y)\n",
    "plt.show()"
   ]
  },
  {
   "cell_type": "code",
   "execution_count": 5,
   "metadata": {},
   "outputs": [
    {
     "ename": "NameError",
     "evalue": "name 'accumulation' is not defined",
     "output_type": "error",
     "traceback": [
      "\u001b[1;31m---------------------------------------------------------------------------\u001b[0m",
      "\u001b[1;31mNameError\u001b[0m                                 Traceback (most recent call last)",
      "\u001b[1;32m<ipython-input-5-f3b698c6c680>\u001b[0m in \u001b[0;36m<module>\u001b[1;34m\u001b[0m\n\u001b[0;32m     17\u001b[0m \u001b[1;31m# calculate the equalization histogram\u001b[0m\u001b[1;33m\u001b[0m\u001b[1;33m\u001b[0m\u001b[1;33m\u001b[0m\u001b[0m\n\u001b[0;32m     18\u001b[0m \u001b[1;32mfor\u001b[0m \u001b[0mi\u001b[0m \u001b[1;32min\u001b[0m \u001b[0mrange\u001b[0m\u001b[1;33m(\u001b[0m\u001b[1;36m256\u001b[0m\u001b[1;33m)\u001b[0m\u001b[1;33m:\u001b[0m\u001b[1;33m\u001b[0m\u001b[1;33m\u001b[0m\u001b[0m\n\u001b[1;32m---> 19\u001b[1;33m     \u001b[0maccumulation\u001b[0m\u001b[1;33m[\u001b[0m\u001b[0mi\u001b[0m\u001b[1;33m]\u001b[0m \u001b[1;33m=\u001b[0m \u001b[0mnp\u001b[0m\u001b[1;33m.\u001b[0m\u001b[0msum\u001b[0m\u001b[1;33m(\u001b[0m\u001b[0mdividedImageHis\u001b[0m\u001b[1;33m[\u001b[0m\u001b[1;36m0\u001b[0m\u001b[1;33m:\u001b[0m\u001b[0mi\u001b[0m\u001b[1;33m+\u001b[0m\u001b[1;36m1\u001b[0m\u001b[1;33m]\u001b[0m\u001b[1;33m)\u001b[0m\u001b[1;33m\u001b[0m\u001b[1;33m\u001b[0m\u001b[0m\n\u001b[0m\u001b[0;32m     20\u001b[0m     \u001b[0ms\u001b[0m\u001b[1;33m[\u001b[0m\u001b[0mi\u001b[0m\u001b[1;33m]\u001b[0m \u001b[1;33m=\u001b[0m \u001b[0maccumulation\u001b[0m\u001b[1;33m[\u001b[0m\u001b[0mi\u001b[0m\u001b[1;33m]\u001b[0m \u001b[1;33m*\u001b[0m \u001b[1;36m255\u001b[0m \u001b[1;33m/\u001b[0m \u001b[0mtotalNumberOfPixels\u001b[0m\u001b[1;33m\u001b[0m\u001b[1;33m\u001b[0m\u001b[0m\n\u001b[0;32m     21\u001b[0m \u001b[1;33m\u001b[0m\u001b[0m\n",
      "\u001b[1;31mNameError\u001b[0m: name 'accumulation' is not defined"
     ]
    }
   ],
   "source": [
    "# (c) image after applying histogram equalization to (b) and its histogram\n",
    "\n",
    "# load basic parameter\n",
    "dividedImage = Image.open(\"DividedImage.bmp\")\n",
    "width, height = dividedImage.size\n",
    "totalNumberOfPixels = width * height\n",
    "\n",
    "\n",
    "s = np.zeros(256)\n",
    "dividedImageHis = np.zeros(256)\n",
    "\n",
    "# get divided image histogram count\n",
    "for c in range(width):\n",
    "    for r in range(height):\n",
    "        dividedImageHis[dividedImage.getpixel((c,r))] += 1\n",
    "\n",
    "# calculate the equalization histogram\n",
    "for i in range(256):\n",
    "    accumulation[i] = np.sum(dividedImageHis[0:i+1])\n",
    "    s[i] = accumulation[i] * 255 / totalNumberOfPixels\n",
    "\n",
    "# make new equalizedImage \n",
    "equalizedImage = Image.new(\"L\", dividedImage.size)\n",
    "for c in range(width):\n",
    "    for r in range(height):\n",
    "        equalizedImage.putpixel((c,r), int(s[dividedImage.getpixel((c,r))]))\n",
    "equalizedImage.save(\"EqualizeedImage.bmp\")\n",
    "equalizedImage.show()    \n",
    "\n",
    "# make the histogram of equalization image\n",
    "equalizedHis = np.zeros(256)\n",
    "for c in range(width):\n",
    "    for r in range(height):\n",
    "        equalizedHis[equalizedImage.getpixel((c,r))] += 1\n",
    "\n",
    "plt.bar(x,equalizedHis)\n",
    "plt.show()"
   ]
  }
 ],
 "metadata": {
  "kernelspec": {
   "display_name": "Python 3",
   "language": "python",
   "name": "python3"
  },
  "language_info": {
   "codemirror_mode": {
    "name": "ipython",
    "version": 3
   },
   "file_extension": ".py",
   "mimetype": "text/x-python",
   "name": "python",
   "nbconvert_exporter": "python",
   "pygments_lexer": "ipython3",
   "version": "3.8.3"
  }
 },
 "nbformat": 4,
 "nbformat_minor": 4
}
