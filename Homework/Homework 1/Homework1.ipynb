{
 "cells": [
  {
   "cell_type": "markdown",
   "metadata": {},
   "source": [
    "# CV Homework 1 part1 "
   ]
  },
  {
   "cell_type": "code",
   "execution_count": 1,
   "metadata": {},
   "outputs": [],
   "source": [
    "from PIL import Image\n",
    "import numpy as np"
   ]
  },
  {
   "cell_type": "code",
   "execution_count": 2,
   "metadata": {},
   "outputs": [],
   "source": [
    "# upside-down\n",
    "img = np.array(Image.open(r\"C:\\Users\\Joey_\\Google 雲端硬碟\\資工所\\博士班\\電腦視覺\\Homework\\Homework1\\lena.bmp\"))\n",
    "img = img[::-1] # \n",
    "out_img = Image.fromarray(img)\n",
    "out_img.show()"
   ]
  },
  {
   "cell_type": "code",
   "execution_count": 3,
   "metadata": {},
   "outputs": [],
   "source": [
    "# right-side-left\n",
    "img = np.array(Image.open(r\"C:\\Users\\Joey_\\Google 雲端硬碟\\資工所\\博士班\\電腦視覺\\Homework\\Homework1\\lena.bmp\"))\n",
    "for i in range(0, 512):\n",
    "    img[i] = img[i][::-1]\n",
    "out_img = Image.fromarray(img)\n",
    "out_img.show()"
   ]
  },
  {
   "cell_type": "code",
   "execution_count": 4,
   "metadata": {},
   "outputs": [],
   "source": [
    "# diagonally flip upper left to bottom right\n",
    "img = np.array(Image.open(r\"C:\\Users\\Joey_\\Google 雲端硬碟\\資工所\\博士班\\電腦視覺\\Homework\\Homework1\\lena.bmp\"))\n",
    "for i in range(0, 512):\n",
    "    for j in range(i,512):\n",
    "        img[i][j], img[j][i] = img[j][i], img[i][j]\n",
    "out_img = Image.fromarray(img)\n",
    "out_img.show()"
   ]
  },
  {
   "cell_type": "markdown",
   "metadata": {},
   "source": [
    "# part 2"
   ]
  },
  {
   "cell_type": "code",
   "execution_count": 5,
   "metadata": {},
   "outputs": [],
   "source": [
    "# rotate lena.bmp 45 degrees clockwise\n",
    "img = Image.open(r\"C:\\Users\\Joey_\\Google 雲端硬碟\\資工所\\博士班\\電腦視覺\\Homework\\Homework1\\lena.bmp\")\n",
    "img = img.rotate(-45)\n",
    "img.show()"
   ]
  },
  {
   "cell_type": "code",
   "execution_count": 6,
   "metadata": {},
   "outputs": [],
   "source": [
    "# shrink lena.bmp in half\n",
    "img = Image.open(r\"C:\\Users\\Joey_\\Google 雲端硬碟\\資工所\\博士班\\電腦視覺\\Homework\\Homework1\\lena.bmp\")\n",
    "img.thumbnail((256,256),Image.ANTIALIAS)\n",
    "img.show()"
   ]
  },
  {
   "cell_type": "code",
   "execution_count": 8,
   "metadata": {},
   "outputs": [],
   "source": [
    "# binarize lena.bmp at 128 to get a binary image\n",
    "img = np.array(Image.open(r\"C:\\Users\\Joey_\\Google 雲端硬碟\\資工所\\博士班\\電腦視覺\\Homework\\Homework1\\lena.bmp\"))\n",
    "for i in range(0, 512):\n",
    "    for j in range(0, 512):\n",
    "        if (img[i][j] >= 128):\n",
    "            img[i][j] = 255\n",
    "        else:\n",
    "            img[i][j] =0\n",
    "out_img = Image.fromarray(img)\n",
    "out_img.show()"
   ]
  }
 ],
 "metadata": {
  "kernelspec": {
   "display_name": "Python 3",
   "language": "python",
   "name": "python3"
  },
  "language_info": {
   "codemirror_mode": {
    "name": "ipython",
    "version": 3
   },
   "file_extension": ".py",
   "mimetype": "text/x-python",
   "name": "python",
   "nbconvert_exporter": "python",
   "pygments_lexer": "ipython3",
   "version": "3.8.3"
  }
 },
 "nbformat": 4,
 "nbformat_minor": 4
}
