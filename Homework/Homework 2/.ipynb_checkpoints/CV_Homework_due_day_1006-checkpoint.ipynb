{
 "cells": [
  {
   "cell_type": "code",
   "execution_count": 1,
   "metadata": {},
   "outputs": [],
   "source": [
    "import numpy as np\n",
    "from PIL import Image\n",
    "import matplotlib.pyplot as plt"
   ]
  },
  {
   "cell_type": "code",
   "execution_count": 2,
   "metadata": {},
   "outputs": [],
   "source": [
    "# a binary image (threshold at 128)\n",
    "img = np.array(Image.open(r\"C:\\Users\\Joey_\\Google 雲端硬碟\\資工所\\博士班\\電腦視覺\\Homework\\Homework2\\lena.bmp\"))\n",
    "for i in range(0, 512):\n",
    "    for j in range(0, 512):\n",
    "        if (img[i][j] < 128):\n",
    "            img[i][j] = 0\n",
    "        else: \n",
    "            img[i][j] = 255\n",
    "out_img = Image.fromarray(img)\n",
    "out_img.save(\"binary.bmp\")\n",
    "out_img.show()\n"
   ]
  },
  {
   "cell_type": "code",
   "execution_count": 8,
   "metadata": {},
   "outputs": [
    {
     "data": {
      "image/png": "[encoded data removed]",
      "text/plain": [
       "<Figure size 432x288 with 1 Axes>"
      ]
     },
     "metadata": {
      "needs_background": "light"
     },
     "output_type": "display_data"
    }
   ],
   "source": [
    "# a histogram\n",
    "img = np.array(Image.open(r\"C:\\Users\\Joey_\\Google 雲端硬碟\\資工所\\博士班\\電腦視覺\\Homework\\Homework2\\lena.bmp\"))\n",
    "x = np.arange(256)\n",
    "y = np.zeros(256)\n",
    "for i in range(0, 512):\n",
    "    for j in range(0, 512):\n",
    "        y[img[i][j]] +=1\n",
    "plt.bar(x,y)\n",
    "plt.show()"
   ]
  },
  {
   "cell_type": "code",
   "execution_count": 4,
   "metadata": {},
   "outputs": [
    {
     "name": "stdout",
     "output_type": "stream",
     "text": [
      ". . . . . . . . . . . . . . . . . . . . OK\n"
     ]
    }
   ],
   "source": [
    "# (c) connected components\u000b",
    "(regions with + at centroid, \u000b",
    "bounding box)\n",
    "# 4-connected\n",
    "\n",
    "class Stack:\n",
    "    \"A container with a last-in-first-out (LIFO) queuing policy.\"\n",
    "    def __init__(self):\n",
    "        self.list = []\n",
    "\n",
    "    def push(self,item):\n",
    "        \"Push 'item' onto the stack\"\n",
    "        self.list.append(item)\n",
    "\n",
    "    def pop(self):\n",
    "        \"Pop the most recently pushed item from the stack\"\n",
    "        return self.list.pop()\n",
    "\n",
    "    def isEmpty(self):\n",
    "        \"Returns true if the stack is empty\"\n",
    "        return len(self.list) == 0\n",
    "    \n",
    "# Define threshold of area \n",
    "areaThreshold = 500\n",
    "\n",
    "# Load image from file\n",
    "original = Image.open('lena.bmp')\n",
    "binary = Image.open('binary.bmp')\n",
    "\n",
    "# Get width and Height\n",
    "width, height = origin.size\n",
    "\n",
    "# Setup parameter\n",
    "areaID = 1\n",
    "visited = np.zeros((width, height))\n",
    "IDnumber = np.zeros(width*height)\n",
    "labelImage = np.zeros((width, height))\n",
    "\n",
    "# using BFS in each pixel to get connected component\n",
    "for r in range(height):\n",
    "    for c in range(width):\n",
    "        # if the pixel == 0, we don't need to label, so just marks visited\n",
    "        if (binary.getpixel(r,c) == 0):\n",
    "            visited[r][c] = 1\n",
    "        else:\n",
    "            stack = Stack()\n",
    "            stack.push((r,c))\n",
    "            \n",
    "            while not stack.isEmpty():\n",
    "                \n",
    "                row, col = stack.pop()\n",
    "                \n",
    "                if (visited[row][col] == 0):\n",
    "                    \n",
    "                    visited[row][col] = 1\n",
    "                    labelImage[row][col] = areaID\n",
    "                    IDnumber[areaID] += 1\n",
    "                    \n",
    "                    for x in [row-1, row, row+1]:\n",
    "                        for y in [col-1, col, col+1]:\n",
    "                            if (0 <= x < width and 0 <= y < height):\n",
    "                                if (binary.getpixel(x,y)!=0 and visited[x][y] == 0):\n",
    "                                    stack.push((x,y))\n",
    "            areaID += 1\n",
    "            \n",
    "rect = Stack()\n",
    "\n",
    "for i in range(IDnumber.size):\n",
    "    if (IDnumber[i] > areaThreshold):\n",
    "        rectLeft = width\n",
    "        rectRight = 0\n",
    "        rectTop = 0\n",
    "        rectBot = height\n",
    "        for r in range(height):\n",
    "            for c in range(width):\n",
    "                if (labelImage[r][c] == i):\n",
    "                    rectLeft = min(c, rectLeft)\n",
    "                    rectRight = max(c, rectRight)\n",
    "                    rectTop = max(r, rectTop)\n",
    "                    rectBot = min(r, rectBot)\n",
    "        rect.push(rectLeft, rectRight, rectTop, rectBot)\n",
    "\n",
    "connectedImage = Image.new('RGB', original.size)\n",
    "connectedImageArray = connectedImage.load()                   \n",
    "\n",
    "for r in range(height):\n",
    "    c in range(width):\n",
    "        if (binary.getpixel(r,c) == 0):\n",
    "            connectedImageArray[r][c] = (0, 0, 0)\n",
    "        else:\n",
    "            connectedImageArray[r][c] = (255, 255, 255)\n",
    "        \n",
    "            \n",
    "      "
   ]
  },
  {
   "cell_type": "code",
   "execution_count": 7,
   "metadata": {},
   "outputs": [
    {
     "name": "stdout",
     "output_type": "stream",
     "text": [
      "[128707 129196     61    452    108    139    165    142     84    156\n",
      "     46     31    253     60     79     99     19     29     56     56\n",
      "     39     19     25     36     27     28     30     25     20     17\n",
      "     38     30     28     11     21     11     12      6    105     18\n",
      "     11     21      9      2      9      9     18      6     38     65\n",
      "      6      9      1     28      5      4      9     33     13     11\n",
      "     61     10      4      6      8     22     12      5     10      4\n",
      "     23     21      2      9      5     49      2      2     28      4\n",
      "      1      9      2      1      3      9      4      8      5     16\n",
      "      2      7      7      4     32      3     18     23      1      6\n",
      "     13      8      4     23      1      7     24      7      3      7\n",
      "      6      2      2     15     16      0      3      5      4      5\n",
      "     13      6      3      4     35      1      7      3      7      0\n",
      "      3      3      3      7      4     15      4      3      3      9\n",
      "      4      4      9      4     18      9      3      8      4      5\n",
      "     43      4     11      5      6      0      4      4      3      2\n",
      "      3      3      4      8      9      3      4      7      6      2\n",
      "     24      1      1      5      4      6      6      1      8      3\n",
      "      5      5      8      9      1      4      6      5     35      3\n",
      "      5      6      2     10      4      2      9      2      1      7\n",
      "      7      4      2      3      4      1     10      5      4      2\n",
      "      6     10     10      1      2      0      4      5      5     15\n",
      "      1      7      7      3      3      6      2      1      4      3\n",
      "      8      3      1      6      1      2      4      5      1      2\n",
      "      7      4      4      2      3      3      5      3      2      5\n",
      "      6      5      0      2      4      5]\n"
     ]
    }
   ],
   "source": []
  }
 ],
 "metadata": {
  "kernelspec": {
   "display_name": "Python 3",
   "language": "python",
   "name": "python3"
  },
  "language_info": {
   "codemirror_mode": {
    "name": "ipython",
    "version": 3
   },
   "file_extension": ".py",
   "mimetype": "text/x-python",
   "name": "python",
   "nbconvert_exporter": "python",
   "pygments_lexer": "ipython3",
   "version": "3.8.3"
  }
 },
 "nbformat": 4,
 "nbformat_minor": 4
}
